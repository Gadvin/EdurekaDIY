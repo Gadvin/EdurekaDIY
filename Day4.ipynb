{
 "cells": [
  {
   "cell_type": "markdown",
   "id": "99726666-82ca-4cc9-97c8-326801f9dae3",
   "metadata": {},
   "source": [
    "# Q1. Problem Statement: Quotient and Remainder\n",
    "\n",
    "Write a Python program with a user-defined function that takes two integers as \r\n",
    "input, dividend, and divisor. Print the quotient and the remainder of the two \r\n",
    "numbers by dividing them using the “//” and “%” operators."
   ]
  },
  {
   "cell_type": "code",
   "execution_count": 9,
   "id": "a08b5264-2776-444b-b9c6-ed7789f3bf42",
   "metadata": {},
   "outputs": [],
   "source": [
    "def division_cal():\n",
    "    dividend = int(input(\"Enter the Dividend:\"))\n",
    "    divisor = int(input(\"Enter the divisor:\"))\n",
    "    print(\"Quotient: \", dividend//divisor)\n",
    "    print(\"Remainder: \", dividend%divisor)\n",
    "    return "
   ]
  },
  {
   "cell_type": "code",
   "execution_count": 11,
   "id": "a53914dd-caba-4ef6-8a2a-96a9e8f4536e",
   "metadata": {},
   "outputs": [
    {
     "name": "stdin",
     "output_type": "stream",
     "text": [
      "Enter the Dividend: 45\n",
      "Enter the divisor: 7\n"
     ]
    },
    {
     "name": "stdout",
     "output_type": "stream",
     "text": [
      "Quotient:  6\n",
      "Remainder:  3\n"
     ]
    }
   ],
   "source": [
    "division_cal()"
   ]
  },
  {
   "cell_type": "markdown",
   "id": "8ff2cf41-2a4b-450c-94ae-3b9c20f005cb",
   "metadata": {},
   "source": [
    "# Q2. Problem Statement: Simple Interest Calculator\n",
    "Write a program in Python to calculate simple interest using the lambda\r\n",
    "function.\r\n",
    "Hint: Simple interest = (P * R * T)/100, where P is the principal amount, R is the \r\n",
    "rate, and T is the time/number of years."
   ]
  },
  {
   "cell_type": "code",
   "execution_count": 17,
   "id": "3b76305e-4a93-457d-9374-b671eda16215",
   "metadata": {},
   "outputs": [
    {
     "name": "stdin",
     "output_type": "stream",
     "text": [
      "Enter the principle Amount:  1000\n",
      "Enter the time (Number of years):  10\n",
      "Enter the Interest Rate:  10\n"
     ]
    },
    {
     "name": "stdout",
     "output_type": "stream",
     "text": [
      "The simple Interest is:  1000.0\n"
     ]
    }
   ],
   "source": [
    "P = int(input(\"Enter the principle Amount: \"))\n",
    "T = int(input(\"Enter the time (Number of years): \"))\n",
    "R = int(input(\"Enter the Interest Rate: \"))\n",
    "\n",
    "SI = lambda P, R, T : ((P * R * T)/100)\n",
    "print(\"The simple Interest is: \", SI(P, R, T))"
   ]
  },
  {
   "cell_type": "code",
   "execution_count": null,
   "id": "9c745459-1859-4138-8157-d89f6b777d30",
   "metadata": {},
   "outputs": [],
   "source": []
  }
 ],
 "metadata": {
  "kernelspec": {
   "display_name": "Python 3 (ipykernel)",
   "language": "python",
   "name": "python3"
  },
  "language_info": {
   "codemirror_mode": {
    "name": "ipython",
    "version": 3
   },
   "file_extension": ".py",
   "mimetype": "text/x-python",
   "name": "python",
   "nbconvert_exporter": "python",
   "pygments_lexer": "ipython3",
   "version": "3.11.7"
  }
 },
 "nbformat": 4,
 "nbformat_minor": 5
}
