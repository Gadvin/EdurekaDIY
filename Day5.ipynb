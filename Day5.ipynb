{
 "cells": [
  {
   "cell_type": "markdown",
   "id": "7d77f610-b1be-489a-8cd0-3ad90d7a1375",
   "metadata": {},
   "source": [
    "# Q1. Problem Statement: Math Quiz\n",
    "\n",
    "Write a Python program to create a math quiz that generates math questions \r\n",
    "using random numbers and operators and asks the user to enter the correct \r\n",
    "answer; evaluate the answer entered by the user and print a message whether \r\n",
    "the answer is correct or incorrect."
   ]
  },
  {
   "cell_type": "code",
   "execution_count": 16,
   "id": "6333bc90-f264-4599-ab5d-784338bfdcb3",
   "metadata": {},
   "outputs": [
    {
     "name": "stdin",
     "output_type": "stream",
     "text": [
      "What is your name?  Gadvin\n"
     ]
    },
    {
     "name": "stdout",
     "output_type": "stream",
     "text": [
      "Alright  Gadvin Welcome to your math quiz\n",
      "Your question is  4 - 9\n"
     ]
    },
    {
     "name": "stdin",
     "output_type": "stream",
     "text": [
      "What is your answer:  -5\n"
     ]
    },
    {
     "name": "stdout",
     "output_type": "stream",
     "text": [
      "Correct.\n"
     ]
    }
   ],
   "source": [
    "# Import the library to randomize the number\n",
    "import random as r\n",
    "\n",
    "name = input(\"What is your name? \")\n",
    "print(\"Alright \", name, \"Welcome to your math quiz\")\n",
    "operator = [\"+\", \"-\", \"/\", \"*\"]\n",
    "num1 = r.randint(1,10)\n",
    "num2 = r.randint(1,10)\n",
    "chosen_operator = r.choice(operator)\n",
    "print (\"Your question is \", num1, chosen_operator, num2)\n",
    "result = int(input(\"What is your answer: \"))\n",
    "\n",
    "if chosen_operator == \"+\":\n",
    "    result1 = num1 + num2\n",
    "    if result == result1:\n",
    "        print(\"Correct.\")\n",
    "    else:\n",
    "        print(\"Incorrect. The correct answer is \", result1)\n",
    "if chosen_operator == \"-\":\n",
    "    result1 = num1 - num2\n",
    "    if result == result1:\n",
    "        print(\"Correct.\")\n",
    "    else:\n",
    "        print(\"Incorrect. The correct answer is \", result1)\n",
    "if chosen_operator == \"/\":\n",
    "    result1 = num1 / num2\n",
    "    if result == result1:\n",
    "        print(\"Correct.\")\n",
    "    else:\n",
    "        print(\"Incorrect. The correct answer is \", result1)\n",
    "if chosen_operator == \"*\":\n",
    "    result1 = num1 * num2\n",
    "    if result == result1:\n",
    "        print(\"Correct.\")\n",
    "    else:\n",
    "        print(\"Incorrect. The correct answer is \", result1)\n"
   ]
  },
  {
   "cell_type": "markdown",
   "id": "64e38666-55a2-4d76-9907-592468482142",
   "metadata": {},
   "source": [
    "# Q2. Problem Statement: Understanding Classes and Objects\n",
    "\n",
    "Write a Python program to create a Bus object that will inherit all the variables \r\n",
    "and methods of the parent Vehicle class and display it."
   ]
  },
  {
   "cell_type": "code",
   "execution_count": 38,
   "id": "dc41d600-8314-4a19-9ea8-2fc0968fb2ce",
   "metadata": {},
   "outputs": [
    {
     "name": "stdout",
     "output_type": "stream",
     "text": [
      "Vehicle name: Premio,Bus Speed: 450, Mileage: 100000, Type: sedan\n",
      "Vehicle name: Scania,Bus Speed: 200, Seating Capacity: 65\n"
     ]
    }
   ],
   "source": [
    "#declared a parent class vehicl to take two attributes name and speed\n",
    "class vehicle:\n",
    "    def __init__(self, name, speed):\n",
    "        self.name = name\n",
    "        self.speed = speed\n",
    "    \n",
    "class car(vehicle):\n",
    "    def __init__(self, name,speed, mileage, type):\n",
    "        super().__init__(name, speed)\n",
    "        self.mileage = mileage\n",
    "        self.type = type\n",
    "    def display_info(self):\n",
    "        print(f\"Vehicle name: {self.name},Bus Speed: {self.speed}, Mileage: {self.mileage}, Type: {self.type}\")\n",
    "        \n",
    "class bus(vehicle):\n",
    "    def __init__(self, name,speed, seating_capacity):\n",
    "        super().__init__(name, speed)\n",
    "        self.seating_capacity = seating_capacity\n",
    "    def display_info(self):\n",
    "        print(f\"Vehicle name: {self.name},Bus Speed: {self.speed}, Seating Capacity: {self.seating_capacity}\")\n",
    "\n",
    "abro_car = car(\"Premio\", 450, 100000, \"sedan\")\n",
    "abro_car.display_info()\n",
    "gad_bus = bus(\"Scania\", 200, 65)\n",
    "gad_bus.display_info()\n"
   ]
  },
  {
   "cell_type": "code",
   "execution_count": null,
   "id": "bbca90ec-b5f1-482c-b2d6-6057e1dbb3e9",
   "metadata": {},
   "outputs": [],
   "source": []
  }
 ],
 "metadata": {
  "kernelspec": {
   "display_name": "Python 3 (ipykernel)",
   "language": "python",
   "name": "python3"
  },
  "language_info": {
   "codemirror_mode": {
    "name": "ipython",
    "version": 3
   },
   "file_extension": ".py",
   "mimetype": "text/x-python",
   "name": "python",
   "nbconvert_exporter": "python",
   "pygments_lexer": "ipython3",
   "version": "3.11.7"
  }
 },
 "nbformat": 4,
 "nbformat_minor": 5
}
