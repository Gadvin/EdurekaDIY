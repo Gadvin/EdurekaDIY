{
 "cells": [
  {
   "cell_type": "markdown",
   "id": "671d77c2-f110-43e9-9656-6291556b8af8",
   "metadata": {},
   "source": [
    "# Q1. Problem Statement: Vowel or a Consonant\n",
    "Write a Python program that takes a character as input from the user and prints \n",
    "whether the character entered by the user is a vowel or a consonant."
   ]
  },
  {
   "cell_type": "code",
   "execution_count": 23,
   "id": "56960c94-fdb9-4415-a82c-7e96a66bacd2",
   "metadata": {},
   "outputs": [
    {
     "name": "stdin",
     "output_type": "stream",
     "text": [
      "Enter your name? GAd\n"
     ]
    },
    {
     "name": "stdout",
     "output_type": "stream",
     "text": [
      "Hello  GAd\n"
     ]
    },
    {
     "name": "stdin",
     "output_type": "stream",
     "text": [
      "Please Enter a single Character: hg\n"
     ]
    },
    {
     "name": "stdout",
     "output_type": "stream",
     "text": [
      "hg is a Consonant\n"
     ]
    }
   ],
   "source": [
    "user = input(\"Enter your name?\")\n",
    "print(\"Hello \", user)\n",
    "char = input(\"Please Enter a single Character:\")\n",
    "\n",
    "vowels = ['a', 'e', 'i', 'o', 'u', 'A', 'E', 'I', 'O', 'U']\n",
    "\n",
    "if char in vowels:\n",
    "    print(char, \"is a Vowel\")\n",
    "else:\n",
    "    print(char, \"is a Consonant\")\n",
    "    "
   ]
  },
  {
   "cell_type": "markdown",
   "id": "5e5ea1b6-5bff-4d7d-a02c-62ae58c513fa",
   "metadata": {},
   "source": [
    "# Q2. Problem Statement: Multiplication Table\n",
    "Write a Python program that takes an integer as input and prints a multiplication \r\n",
    "table from 1 to 10."
   ]
  },
  {
   "cell_type": "code",
   "execution_count": 35,
   "id": "3a595926-22a5-49a5-82fb-22a867fa38d8",
   "metadata": {},
   "outputs": [
    {
     "name": "stdin",
     "output_type": "stream",
     "text": [
      "Please Enter a Number: 5\n"
     ]
    },
    {
     "name": "stdout",
     "output_type": "stream",
     "text": [
      "The Multiplication Table (from 1 to 10) of  5  is\n",
      "5 X 1 = 5\n",
      "5 X 2 = 10\n",
      "5 X 3 = 15\n",
      "5 X 4 = 20\n",
      "5 X 5 = 25\n",
      "5 X 6 = 30\n",
      "5 X 7 = 35\n",
      "5 X 8 = 40\n",
      "5 X 9 = 45\n",
      "5 X 10 = 50\n"
     ]
    }
   ],
   "source": [
    "num = input(\"Please Enter a Number:\")\n",
    "num = int(num)\n",
    "print(\"The Multiplication Table (from 1 to 10) of \", num, \" is\")\n",
    "\n",
    "for x in range(10):\n",
    "    product = (x+1) * num\n",
    "    print(num, \"X\", x+1, \"=\", product)"
   ]
  },
  {
   "cell_type": "code",
   "execution_count": null,
   "id": "d7b2189c-cb7a-4b9e-be42-ed7ff7762f71",
   "metadata": {},
   "outputs": [],
   "source": []
  }
 ],
 "metadata": {
  "kernelspec": {
   "display_name": "Python 3 (ipykernel)",
   "language": "python",
   "name": "python3"
  },
  "language_info": {
   "codemirror_mode": {
    "name": "ipython",
    "version": 3
   },
   "file_extension": ".py",
   "mimetype": "text/x-python",
   "name": "python",
   "nbconvert_exporter": "python",
   "pygments_lexer": "ipython3",
   "version": "3.11.7"
  }
 },
 "nbformat": 4,
 "nbformat_minor": 5
}
