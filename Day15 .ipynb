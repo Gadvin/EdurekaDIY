{
 "cells": [
  {
   "cell_type": "markdown",
   "id": "2c83de68-169c-4f04-bbc0-ad7873e73f99",
   "metadata": {},
   "source": [
    "# Q1. Problem Statement: Measures of Dispersion \n",
    "Load the “HRdataset_v14.csv” dataset into a DataFrame and group the data \n",
    "based on the “Department” column. From the grouped DataFrame and perform \n",
    "the following tasks: \n",
    "1. Calculate the Mean and Median, of the “Salary” column. \n",
    "2. Find out which Department has the highest number of employees \n",
    "3. Calculate the standard deviation and variance of the “Salary” column \n",
    "4. Find the interquartile range of the \"Salary\" column \n",
    "5. Find skewness and kurtosis of the original dataset \n",
    "6. Find the z-score of the \"Salary\" column \n",
    "7. Find the 30th percentile of the \"Salary\" column \n",
    "8. Find the Quartiles of the \"GenderID\" column (You can set quartile values of \n",
    "your choice)"
   ]
  },
  {
   "cell_type": "code",
   "execution_count": null,
   "id": "2f6fd547-39f2-4d36-9b4a-2d82d07f8447",
   "metadata": {},
   "outputs": [],
   "source": []
  }
 ],
 "metadata": {
  "kernelspec": {
   "display_name": "Python 3 (ipykernel)",
   "language": "python",
   "name": "python3"
  },
  "language_info": {
   "codemirror_mode": {
    "name": "ipython",
    "version": 3
   },
   "file_extension": ".py",
   "mimetype": "text/x-python",
   "name": "python",
   "nbconvert_exporter": "python",
   "pygments_lexer": "ipython3",
   "version": "3.11.7"
  }
 },
 "nbformat": 4,
 "nbformat_minor": 5
}
