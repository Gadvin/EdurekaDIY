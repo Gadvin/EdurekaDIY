{
 "cells": [
  {
   "cell_type": "markdown",
   "id": "47d9d266-bb12-4231-bfc0-7a692a3558fc",
   "metadata": {},
   "source": [
    "# Q1. Problem Statement: Understanding Array Functions\n",
    "\n",
    "Write a Python program that takes the speeds of any vehicle to store it in a \n",
    "NumPy array and calculates the average speed.\n",
    "\n",
    "Note: Use NumPy functions to get the desired output."
   ]
  },
  {
   "cell_type": "code",
   "execution_count": 38,
   "id": "bfd15ea2-9d6e-4238-b152-c7fb95b5a9e8",
   "metadata": {},
   "outputs": [
    {
     "name": "stdin",
     "output_type": "stream",
     "text": [
      "What numer of speeds do you want to enter? 20\n",
      "Enter the speeds in Km/hr:  61\n",
      "Enter the speeds in Km/hr:  63\n",
      "Enter the speeds in Km/hr:  64\n",
      "Enter the speeds in Km/hr:  65\n",
      "Enter the speeds in Km/hr:  66\n",
      "Enter the speeds in Km/hr:  76\n",
      "Enter the speeds in Km/hr:  78\n",
      "Enter the speeds in Km/hr:  78\n",
      "Enter the speeds in Km/hr:  98\n",
      "Enter the speeds in Km/hr:  68\n",
      "Enter the speeds in Km/hr:  98\n",
      "Enter the speeds in Km/hr:  56\n",
      "Enter the speeds in Km/hr:  79\n",
      "Enter the speeds in Km/hr:  57\n",
      "Enter the speeds in Km/hr:  78\n",
      "Enter the speeds in Km/hr:  54\n",
      "Enter the speeds in Km/hr:  74\n",
      "Enter the speeds in Km/hr:  83\n",
      "Enter the speeds in Km/hr:  93\n",
      "Enter the speeds in Km/hr:  100\n"
     ]
    },
    {
     "name": "stdout",
     "output_type": "stream",
     "text": [
      "The average speed is:  74.45\n"
     ]
    }
   ],
   "source": [
    "import numpy as np\n",
    "\n",
    "x = int(input(\"What numer of speeds do you want to enter?\" ))\n",
    "speed_list = []\n",
    "for y in range(x):\n",
    "    z = int(input(\"Enter the speeds in Km/hr: \"))\n",
    "    speed_list.append(z)\n",
    "\n",
    "speed_array = np.array(speed_list)\n",
    "print(\"The average speed is: \", speed_array.sum()/len(speed_list))"
   ]
  },
  {
   "cell_type": "markdown",
   "id": "bd9b73f5-7100-4fff-bf40-9f86958a4710",
   "metadata": {},
   "source": [
    "# Q2. Problem Statement: Array Indexing/Slicing\n",
    "Write a Python program to generate a 3-D array with integers of your choice, \r\n",
    "perform indexing, and print the first two rows and last two columns of the array\n",
    ".\r\n",
    "Note: Use NumPy arange() function to generate a random array."
   ]
  },
  {
   "cell_type": "code",
   "execution_count": 37,
   "id": "42b45abb-33ad-4226-8666-9ed3cdcfcd70",
   "metadata": {},
   "outputs": [
    {
     "name": "stdout",
     "output_type": "stream",
     "text": [
      "The array is: \n",
      " [[  0   3   6   9  12  15]\n",
      " [ 18  21  24  27  30  33]\n",
      " [ 36  39  42  45  48  51]\n",
      " [ 54  57  60  63  66  69]\n",
      " [ 72  75  78  81  84  87]\n",
      " [ 90  93  96  99 102 105]]\n",
      "The first two rows are: \n",
      " [[ 0  3  6  9 12 15]\n",
      " [18 21 24 27 30 33]]\n",
      "The last two columns are: \n",
      " [[ 12  15]\n",
      " [ 30  33]\n",
      " [ 48  51]\n",
      " [ 66  69]\n",
      " [ 84  87]\n",
      " [102 105]]\n"
     ]
    }
   ],
   "source": [
    "import numpy as np\n",
    "\n",
    "arr = np.arange(0,106,3).reshape(6,6)\n",
    "print(\"The array is: \\n\", arr)\n",
    "print(\"The first two rows are: \\n\", arr[:2])\n",
    "print(\"The last two columns are: \\n\", arr[:,-2:])"
   ]
  },
  {
   "cell_type": "code",
   "execution_count": null,
   "id": "56bc2e14-6d5e-4df8-bf7e-859b8b26877c",
   "metadata": {},
   "outputs": [],
   "source": []
  }
 ],
 "metadata": {
  "kernelspec": {
   "display_name": "Python 3 (ipykernel)",
   "language": "python",
   "name": "python3"
  },
  "language_info": {
   "codemirror_mode": {
    "name": "ipython",
    "version": 3
   },
   "file_extension": ".py",
   "mimetype": "text/x-python",
   "name": "python",
   "nbconvert_exporter": "python",
   "pygments_lexer": "ipython3",
   "version": "3.11.7"
  }
 },
 "nbformat": 4,
 "nbformat_minor": 5
}
