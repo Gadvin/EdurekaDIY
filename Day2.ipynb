{
 "cells": [
  {
   "cell_type": "markdown",
   "id": "426c799b-e0c0-492b-a001-97d35c9073ed",
   "metadata": {},
   "source": [
    "# Day 2 DIY"
   ]
  },
  {
   "cell_type": "markdown",
   "id": "93877cc4-7442-441b-a87e-a7974d90c2b3",
   "metadata": {},
   "source": [
    "## Q1. Problem Statement: The Percentage Calculator"
   ]
  },
  {
   "cell_type": "markdown",
   "id": "9d56d1d5-1057-438f-9f52-01f89fae150a",
   "metadata": {},
   "source": [
    "Write a Python program that takes marks as input for six subjects, with <br>\n",
    "maximum marks being 600, and prints total marks, average marks, and <br>\n",
    "percentages obtained by a student."
   ]
  },
  {
   "cell_type": "markdown",
   "id": "84795419-8760-4bf0-b11e-aa12dc84489a",
   "metadata": {},
   "source": [
    "Declare a nested list with Exam scores and Student names as shown here -\r\n",
    "\"score=[[510, 'John'],[280, 'Lucy']……]\".Write a Python program \r\n",
    "to sort the list based on scores and print the students' names with first and \r\n",
    "second-highest scoresscores"
   ]
  },
  {
   "cell_type": "code",
   "execution_count": 1,
   "id": "c4b6979f-0b10-44d6-bba5-3a107d8f2e4d",
   "metadata": {},
   "outputs": [
    {
     "name": "stdout",
     "output_type": "stream",
     "text": [
      "Enter the marks of all 6 subjects one by one:\n"
     ]
    },
    {
     "name": "stdin",
     "output_type": "stream",
     "text": [
      "Enter marks for subject 1:  50\n",
      "Enter marks for subject 2:  60\n",
      "Enter marks for subject 3:  70\n",
      "Enter marks for subject 4:  80\n",
      "Enter marks for subject 5:  \n"
     ]
    },
    {
     "ename": "ValueError",
     "evalue": "could not convert string to float: ''",
     "output_type": "error",
     "traceback": [
      "\u001b[1;31m---------------------------------------------------------------------------\u001b[0m",
      "\u001b[1;31mValueError\u001b[0m                                Traceback (most recent call last)",
      "Cell \u001b[1;32mIn[1], line 4\u001b[0m\n\u001b[0;32m      2\u001b[0m subject_marks \u001b[38;5;241m=\u001b[39m []\n\u001b[0;32m      3\u001b[0m \u001b[38;5;28;01mfor\u001b[39;00m x \u001b[38;5;129;01min\u001b[39;00m \u001b[38;5;28mrange\u001b[39m(\u001b[38;5;241m6\u001b[39m):\n\u001b[1;32m----> 4\u001b[0m     marks \u001b[38;5;241m=\u001b[39m \u001b[38;5;28mfloat\u001b[39m(\u001b[38;5;28minput\u001b[39m(\u001b[38;5;124mf\u001b[39m\u001b[38;5;124m\"\u001b[39m\u001b[38;5;124mEnter marks for subject \u001b[39m\u001b[38;5;132;01m{\u001b[39;00mx\u001b[38;5;241m+\u001b[39m\u001b[38;5;241m1\u001b[39m\u001b[38;5;132;01m}\u001b[39;00m\u001b[38;5;124m: \u001b[39m\u001b[38;5;124m\"\u001b[39m))\n\u001b[0;32m      5\u001b[0m     subject_marks\u001b[38;5;241m.\u001b[39mappend(marks)\n\u001b[0;32m      6\u001b[0m \u001b[38;5;28mprint\u001b[39m(subject_marks)\n",
      "\u001b[1;31mValueError\u001b[0m: could not convert string to float: ''"
     ]
    }
   ],
   "source": [
    "print(\"Enter the marks of all 6 subjects one by one:\")\n",
    "subject_marks = []\n",
    "for x in range(6):\n",
    "    marks = float(input(f\"Enter marks for subject {x+1}: \"))\n",
    "    subject_marks.append(marks)\n",
    "print(subject_marks)\n",
    "print(\"Total marks obtained:\",sum(subject_marks))\n",
    "print(\"Average Marks Obtained:\", sum(subject_marks)/len(subject_marks))\n"
   ]
  },
  {
   "cell_type": "markdown",
   "id": "5a6f387c-c46f-4db8-bb1e-5b712dc3b9a0",
   "metadata": {},
   "source": [
    "## Q2. Problem Statement: The Percentage Calculator"
   ]
  },
  {
   "cell_type": "markdown",
   "id": "de20a68b-9835-45b4-b2f7-675cab7c7544",
   "metadata": {},
   "source": [
    "Declare a nested list with Exam scores and Student names as shown here -\n",
    "\"score=[[510, 'John'],[280, 'Lucy']……]\".Write a Python program \n",
    "to sort the list based on scores and print the students' names with first and \n",
    "second-highest scores"
   ]
  },
  {
   "cell_type": "code",
   "execution_count": 35,
   "id": "3f9de9f5-69a5-4c7d-a7e9-5cf744fcc2e5",
   "metadata": {},
   "outputs": [
    {
     "name": "stdout",
     "output_type": "stream",
     "text": [
      "Student with highest marks is:  Jay\n",
      "Student with the second highest marks is:  Vishal\n"
     ]
    }
   ],
   "source": [
    "#exam list with scores\n",
    "score = [[558, \"Vishal\"], [255, 'Vinay'], [65, 'Harshit'], [664, 'Jay'], [55, 'Sachin']]\n",
    "\n",
    "#sort list in descending order\n",
    "score.sort(key=lambda x: x[0], reverse=True)\n",
    "\n",
    "#Print the first and second highest scores\n",
    "print(\"Student with highest marks is: \", score[0][1])\n",
    "print(\"Student with the second highest marks is: \", score[1][1])"
   ]
  },
  {
   "cell_type": "code",
   "execution_count": null,
   "id": "8a5372c4-b0de-4d8d-bd63-a070224b7b83",
   "metadata": {},
   "outputs": [],
   "source": []
  }
 ],
 "metadata": {
  "kernelspec": {
   "display_name": "Python 3 (ipykernel)",
   "language": "python",
   "name": "python3"
  },
  "language_info": {
   "codemirror_mode": {
    "name": "ipython",
    "version": 3
   },
   "file_extension": ".py",
   "mimetype": "text/x-python",
   "name": "python",
   "nbconvert_exporter": "python",
   "pygments_lexer": "ipython3",
   "version": "3.11.7"
  }
 },
 "nbformat": 4,
 "nbformat_minor": 5
}
