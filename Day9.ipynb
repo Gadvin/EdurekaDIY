{
 "cells": [
  {
   "cell_type": "markdown",
   "id": "a22ceab5-d01d-47f0-8dc3-836cd6ef1214",
   "metadata": {},
   "source": [
    "# Q1. Problem Statement: Creating Pandas Series"
   ]
  },
  {
   "cell_type": "code",
   "execution_count": 24,
   "id": "6466b371-3848-4666-89fc-726599ab67b1",
   "metadata": {},
   "outputs": [
    {
     "name": "stdin",
     "output_type": "stream",
     "text": [
      "Enter the number of countries to add:  5\n"
     ]
    },
    {
     "name": "stdout",
     "output_type": "stream",
     "text": [
      "Enter the 1 country and code below\n"
     ]
    },
    {
     "name": "stdin",
     "output_type": "stream",
     "text": [
      "Enter the country:  KENYA\n",
      "Enter the country code:  KEN\n"
     ]
    },
    {
     "name": "stdout",
     "output_type": "stream",
     "text": [
      "Enter the 2 country and code below\n"
     ]
    },
    {
     "name": "stdin",
     "output_type": "stream",
     "text": [
      "Enter the country:  INDIA\n",
      "Enter the country code:  IND\n"
     ]
    },
    {
     "name": "stdout",
     "output_type": "stream",
     "text": [
      "Enter the 3 country and code below\n"
     ]
    },
    {
     "name": "stdin",
     "output_type": "stream",
     "text": [
      "Enter the country:  JAPAN\n",
      "Enter the country code:  JPY\n"
     ]
    },
    {
     "name": "stdout",
     "output_type": "stream",
     "text": [
      "Enter the 4 country and code below\n"
     ]
    },
    {
     "name": "stdin",
     "output_type": "stream",
     "text": [
      "Enter the country:  FRANCE\n",
      "Enter the country code:  FRA\n"
     ]
    },
    {
     "name": "stdout",
     "output_type": "stream",
     "text": [
      "Enter the 5 country and code below\n"
     ]
    },
    {
     "name": "stdin",
     "output_type": "stream",
     "text": [
      "Enter the country:  GERMANY\n",
      "Enter the country code:  GER\n"
     ]
    },
    {
     "name": "stdout",
     "output_type": "stream",
     "text": [
      "\n",
      "\n",
      "The Series is as below \n",
      " KEN      KENYA\n",
      "IND      INDIA\n",
      "JPY      JAPAN\n",
      "FRA     FRANCE\n",
      "GER    GERMANY\n",
      "dtype: object\n",
      "Length of the series is:  5\n",
      "Shape of the series is:  (5,)\n",
      "Size of the series is:  5\n"
     ]
    }
   ],
   "source": [
    "import pandas as pd\n",
    "\n",
    "x = int(input(\"Enter the number of countries to add: \"))\n",
    "country = []\n",
    "codes = []\n",
    "for y in range(x):\n",
    "    print(f\"Enter the {y+1} country and code below\")\n",
    "    countries = input(\"Enter the country: \")#[\"India\", \"Kenya\", \"Australia\", \"Germany\", \"France\", \"Japan\", \"Canada\"]\n",
    "    country_codes = input(\"Enter the country code: \") #[\"IND\", \"KEN\", \"AUS\", \"GER\", \"FRA\", \"JPY\", \"CAN\"]\n",
    "    country.append(countries)\n",
    "    codes.append(country_codes)\n",
    "    \n",
    "country_with_codes = pd.Series(country, index = codes)\n",
    "print(\"\\n\")\n",
    "print(\"The Series is as below \\n\", country_with_codes)\n",
    "\n",
    "print(\"Length of the series is: \", len(country_with_codes))\n",
    "print(\"Shape of the series is: \", country_with_codes.shape)\n",
    "print(\"Size of the series is: \", country_with_codes.size)"
   ]
  },
  {
   "cell_type": "markdown",
   "id": "b13da2b4-8081-4af9-86aa-d0c59bd16b9d",
   "metadata": {},
   "source": [
    "# Q2. Problem Statement: Creating Pandas DataFrame\n",
    "\n",
    "Write a Python program that reads Name, Age, and Roll no. as input from the \r\n",
    "user and stores it into a DataFrame, and printsthe DataFrame you have created."
   ]
  },
  {
   "cell_type": "code",
   "execution_count": 28,
   "id": "7a10ac6c-fc2e-4e69-81da-cfb8acd3cf0b",
   "metadata": {},
   "outputs": [
    {
     "name": "stdin",
     "output_type": "stream",
     "text": [
      "Enter the number of Student records to add:  3\n"
     ]
    },
    {
     "name": "stdout",
     "output_type": "stream",
     "text": [
      "Enter the student number 1 details\n"
     ]
    },
    {
     "name": "stdin",
     "output_type": "stream",
     "text": [
      "Enter the name:  Gadvin\n",
      "Enter the age:  30\n",
      "Enter the roll:  4331\n"
     ]
    },
    {
     "name": "stdout",
     "output_type": "stream",
     "text": [
      "Enter the student number 2 details\n"
     ]
    },
    {
     "name": "stdin",
     "output_type": "stream",
     "text": [
      "Enter the name:  Finnah\n",
      "Enter the age:  25\n",
      "Enter the roll:  4678\n"
     ]
    },
    {
     "name": "stdout",
     "output_type": "stream",
     "text": [
      "Enter the student number 3 details\n"
     ]
    },
    {
     "name": "stdin",
     "output_type": "stream",
     "text": [
      "Enter the name:  Beonnariah\n",
      "Enter the age:  5\n",
      "Enter the roll:  7890\n"
     ]
    }
   ],
   "source": [
    "import pandas as pd\n",
    "\n",
    "x = int(input(\"Enter the number of Student records to add: \"))\n",
    "Name = []\n",
    "Age = []\n",
    "Roll = []\n",
    "for y in range(x):\n",
    "    print(f\"Enter the student number {y+1} details\")\n",
    "    name = input(\"Enter the name: \")\n",
    "    age = input(\"Enter the age: \")\n",
    "    roll = input(\"Enter the roll: \")\n",
    "    Name.append(name)\n",
    "    Age.append(age)\n",
    "    Roll.append(roll)\n",
    "\n",
    "student_record = pd.DataFrame([Name, Age, Roll])"
   ]
  },
  {
   "cell_type": "code",
   "execution_count": 34,
   "id": "37c06b5f-1044-4cd1-aedd-0d29f6e00b1c",
   "metadata": {},
   "outputs": [
    {
     "name": "stdout",
     "output_type": "stream",
     "text": [
      "         Name Age  Roll\n",
      "0      Gadvin  30  4331\n",
      "1      Finnah  25  4678\n",
      "2  Beonnariah   5  7890\n"
     ]
    }
   ],
   "source": [
    "student_record = pd.DataFrame({\"Name\" : Name, \"Age\" : Age, \"Roll\" : Roll} )\n",
    "print(student_record)"
   ]
  },
  {
   "cell_type": "code",
   "execution_count": null,
   "id": "8b967012-52a8-4a29-9069-98a5d9572149",
   "metadata": {},
   "outputs": [],
   "source": []
  }
 ],
 "metadata": {
  "kernelspec": {
   "display_name": "Python 3 (ipykernel)",
   "language": "python",
   "name": "python3"
  },
  "language_info": {
   "codemirror_mode": {
    "name": "ipython",
    "version": 3
   },
   "file_extension": ".py",
   "mimetype": "text/x-python",
   "name": "python",
   "nbconvert_exporter": "python",
   "pygments_lexer": "ipython3",
   "version": "3.11.7"
  }
 },
 "nbformat": 4,
 "nbformat_minor": 5
}
