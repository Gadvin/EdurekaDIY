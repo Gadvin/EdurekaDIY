{
 "cells": [
  {
   "cell_type": "markdown",
   "id": "422d1a61-6707-48b7-87b2-69b3c90cf01d",
   "metadata": {},
   "source": [
    "# Q1. Problem Statement: Understanding Array Manipulation - I\n",
    "\n",
    "Define a NumPy array with 4 * 5 dimensions, and swap the array's dimensions to \r\n",
    "make it  5 *4 using suitable functions.."
   ]
  },
  {
   "cell_type": "code",
   "execution_count": 7,
   "id": "81a0eb4e-07f4-4070-a09b-896c7439bb49",
   "metadata": {},
   "outputs": [
    {
     "name": "stdout",
     "output_type": "stream",
     "text": [
      "Original Array: \n",
      " [20 21 22 23 24 25 26 27 28 29 30 31 32 33 34 35 36 37 38 39]\n",
      "Reshape Array: \n",
      " [[20 21 22 23 24]\n",
      " [25 26 27 28 29]\n",
      " [30 31 32 33 34]\n",
      " [35 36 37 38 39]]\n",
      "Transpose o Array: \n",
      " [[20 25 30 35]\n",
      " [21 26 31 36]\n",
      " [22 27 32 37]\n",
      " [23 28 33 38]\n",
      " [24 29 34 39]]\n"
     ]
    }
   ],
   "source": [
    "import numpy as np\n",
    "\n",
    "arr = np.arange(20, 40)\n",
    "print(\"Original Array: \\n\", arr)\n",
    "\n",
    "arr2 = arr.reshape(4,5)\n",
    "print(\"Reshape Array: \\n\", arr2)\n",
    "\n",
    "print(\"Transpose o Array: \\n\", arr2.transpose())"
   ]
  },
  {
   "cell_type": "markdown",
   "id": "06a757de-1a38-4a95-814b-fb33cf1fa08d",
   "metadata": {},
   "source": [
    "# Q2. Problem Statement: Understanding Array Manipulation - II\n",
    "\n",
    "Write a Python program to create two 2-dimensional arrays and apply\r\n",
    "hstack(), vstack(), concatenate(), and split() functions to \r\n",
    "them to get the output as shown below..\r"
   ]
  },
  {
   "cell_type": "code",
   "execution_count": 33,
   "id": "e9f79b96-7003-4f90-996f-5751fe20591a",
   "metadata": {},
   "outputs": [
    {
     "name": "stdout",
     "output_type": "stream",
     "text": [
      "First array is: \n",
      " [[22 23]\n",
      " [24 25]]\n",
      "Second array is: \n",
      " [[11 12]\n",
      " [13 14]]\n",
      "Applying hstack() function: \n",
      " [[22 23 11 12]\n",
      " [24 25 13 14]]\n",
      "Applying vstack() function: \n",
      " [[22 23]\n",
      " [24 25]\n",
      " [11 12]\n",
      " [13 14]]\n",
      "Applying concetenate() function: \n",
      " [[22 23]\n",
      " [24 25]\n",
      " [11 12]\n",
      " [13 14]]\n",
      "Applying split() function: \n",
      " [array([[22, 23],\n",
      "       [24, 25]]), array([[11, 12],\n",
      "       [13, 14]])]\n"
     ]
    }
   ],
   "source": [
    "import numpy as np\n",
    "\n",
    "x = np.arange(22,26).reshape(2,2)\n",
    "y = np.arange(11, 15).reshape(2,2)\n",
    "z = np.concatenate((x, y))\n",
    "print(\"First array is: \\n\", x)\n",
    "print(\"Second array is: \\n\", y)\n",
    "\n",
    "print(\"Applying hstack() function: \\n\", np.hstack((x, y)))\n",
    "print(\"Applying vstack() function: \\n\", np.vstack((x, y)))\n",
    "print(\"Applying concetenate() function: \\n\", np.concatenate((x, y)))\n",
    "print(\"Applying split() function: \\n\",np.split(z,2,axis=0))"
   ]
  },
  {
   "cell_type": "code",
   "execution_count": null,
   "id": "d056acfe-6662-46bb-a78a-a8a1ca379db0",
   "metadata": {},
   "outputs": [],
   "source": []
  }
 ],
 "metadata": {
  "kernelspec": {
   "display_name": "Python 3 (ipykernel)",
   "language": "python",
   "name": "python3"
  },
  "language_info": {
   "codemirror_mode": {
    "name": "ipython",
    "version": 3
   },
   "file_extension": ".py",
   "mimetype": "text/x-python",
   "name": "python",
   "nbconvert_exporter": "python",
   "pygments_lexer": "ipython3",
   "version": "3.11.7"
  }
 },
 "nbformat": 4,
 "nbformat_minor": 5
}
