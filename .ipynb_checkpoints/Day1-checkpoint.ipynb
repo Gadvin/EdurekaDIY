{
 "cells": [
  {
   "cell_type": "markdown",
   "id": "0b72143d-5125-4b44-bfe1-ddea8da3580f",
   "metadata": {},
   "source": [
    "# DAY 1 DIY"
   ]
  },
  {
   "cell_type": "markdown",
   "id": "673c9d99-9d95-41e5-8510-17090f6e2838",
   "metadata": {},
   "source": [
    "## Q1. Problem Statement: Hello World"
   ]
  },
  {
   "cell_type": "markdown",
   "id": "37e79350-74ca-465f-94ad-81b16331f680",
   "metadata": {},
   "source": [
    "Write a Python program to print “Hello World!”.\n",
    "\n",
    "    OUTPUT: Hello World"
   ]
  },
  {
   "cell_type": "markdown",
   "id": "e79e3994-011a-4b26-b792-19972d66e69d",
   "metadata": {},
   "source": [
    "### ANSWER:"
   ]
  },
  {
   "cell_type": "code",
   "execution_count": null,
   "id": "3a00173b-1856-4f17-966b-65367b7fa3e5",
   "metadata": {},
   "outputs": [],
   "source": [
    "print(\"Hello World!\")"
   ]
  },
  {
   "cell_type": "markdown",
   "id": "29d2d49b-d550-495c-983e-f0ec1011fd74",
   "metadata": {},
   "source": [
    "## Q2. Problem Statement: Understanding Variables"
   ]
  },
  {
   "cell_type": "markdown",
   "id": "bec781df-1562-4278-977f-8fcb2a03382a",
   "metadata": {},
   "source": [
    "Write a Python program to create two variables, assign integer values to them <br>\r\n",
    "and add them using the “+” operator to store the result in another variable and<br> \r\n",
    "print it."
   ]
  },
  {
   "cell_type": "code",
   "execution_count": 4,
   "id": "2cc09a4d-5070-46c7-8377-996e0d44c1c0",
   "metadata": {},
   "outputs": [
    {
     "name": "stdout",
     "output_type": "stream",
     "text": [
      "Result of addition is: 30\n"
     ]
    }
   ],
   "source": [
    "x = 20\n",
    "y = 10\n",
    "z = x + y\n",
    "print(\"Result of addition is:\", z)"
   ]
  },
  {
   "cell_type": "markdown",
   "id": "fb73de32-a7a7-4ed1-8c77-830a28b46f06",
   "metadata": {},
   "source": [
    "## Q3. Problem Statement: Understanding Tokens"
   ]
  },
  {
   "cell_type": "markdown",
   "id": "023fb905-e1c6-4ae3-a67d-719ffea75f36",
   "metadata": {},
   "source": [
    "Write a Python program to create two variables, assign random values to them <br>\n",
    "and add them using the “+” operator to store the result in another variable and <br>\n",
    "print it."
   ]
  },
  {
   "cell_type": "code",
   "execution_count": 7,
   "id": "21e4377b-5d0e-4d1e-9da2-cce933562688",
   "metadata": {},
   "outputs": [
    {
     "name": "stdout",
     "output_type": "stream",
     "text": [
      "edureka! 10\n"
     ]
    }
   ],
   "source": [
    "x = 4\n",
    "y = 6\n",
    "z = x + y\n",
    "\n",
    "print(\"edureka!\", z)"
   ]
  },
  {
   "cell_type": "code",
   "execution_count": null,
   "id": "1c9f4d93-0eee-4350-bce5-e8a508edc634",
   "metadata": {},
   "outputs": [],
   "source": []
  }
 ],
 "metadata": {
  "kernelspec": {
   "display_name": "Python 3 (ipykernel)",
   "language": "python",
   "name": "python3"
  },
  "language_info": {
   "codemirror_mode": {
    "name": "ipython",
    "version": 3
   },
   "file_extension": ".py",
   "mimetype": "text/x-python",
   "name": "python",
   "nbconvert_exporter": "python",
   "pygments_lexer": "ipython3",
   "version": "3.11.7"
  }
 },
 "nbformat": 4,
 "nbformat_minor": 5
}
