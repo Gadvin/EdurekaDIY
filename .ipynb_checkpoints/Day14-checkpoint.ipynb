{
 "cells": [
  {
   "cell_type": "markdown",
   "id": "9874cba2-1c97-49f9-9c60-ba2ab00fcd72",
   "metadata": {},
   "source": [
    "# Q1. Problem Statement: Measures of Central Tendency- I  \n",
    "Write a Python program to declare a 1-D array. With the help of the statistics \n",
    "library, calculate the Mean, Median, and Mode. \n",
    "Note: You can write any data of your choice inside the array "
   ]
  },
  {
   "cell_type": "code",
   "execution_count": 11,
   "id": "9de299ca-b65f-40b2-8844-a564e51b7a03",
   "metadata": {},
   "outputs": [],
   "source": [
    "#import the relevant libraries\n",
    "import numpy as np\n",
    "import scipy as stats\n",
    "from statistics import mode\n",
    "\n",
    "#A program using a loop to get a list of values as our data\n",
    "def Get_Central_Tendencies():\n",
    "    y = int(input(f\"Enter the number of values: \"))\n",
    "    data = []\n",
    "    for x in range(y):\n",
    "        value = float(input(f\"Enter value {x+1}: \"))\n",
    "        data.append(value)\n",
    "    print(\"The Array is \",data)\n",
    "    \n",
    "    mean_value = np.mean(data)\n",
    "    print(\"Mean of the Array is: \", mean_value)\n",
    "    \n",
    "    median_value = np.median(data)\n",
    "    print(\"Median of the Array is: \", median_value)\n",
    "    \n",
    "    mode_value = mode(data)\n",
    "    print(\"Mode of the Array is: \", mode_value)\n",
    "    return"
   ]
  },
  {
   "cell_type": "code",
   "execution_count": 12,
   "id": "b3090f6b-c420-4c21-8092-9bb303a90199",
   "metadata": {},
   "outputs": [
    {
     "name": "stdin",
     "output_type": "stream",
     "text": [
      "Enter the number of values:  5\n",
      "Enter value 1:  10\n",
      "Enter value 2:  20\n",
      "Enter value 3:  20\n",
      "Enter value 4:  30\n",
      "Enter value 5:  50\n"
     ]
    },
    {
     "name": "stdout",
     "output_type": "stream",
     "text": [
      "The Array is  [10.0, 20.0, 20.0, 30.0, 50.0]\n",
      "Mean of the Array is:  26.0\n",
      "Median of the Array is:  20.0\n",
      "Mode of the Array is:  20.0\n"
     ]
    }
   ],
   "source": [
    "Get_Central_Tendencies()"
   ]
  },
  {
   "cell_type": "markdown",
   "id": "739ff313-18c6-4e6a-ada9-3e0cfcb73f79",
   "metadata": {},
   "source": [
    "# Q2. Problem Statement: Measures of Central Tendency- II \n",
    "Write a Python program to declare a DataFrame as shown in the dataset section \n",
    "below and calculate the Mean, Median, and Mode of the entire DataFrame. \n",
    "Note: You can write any data of your choice inside the DataFrame"
   ]
  },
  {
   "cell_type": "code",
   "execution_count": 20,
   "id": "6e4c503b-ba1c-42e9-a492-2714320e1d5f",
   "metadata": {},
   "outputs": [
    {
     "data": {
      "text/html": [
       "<div>\n",
       "<style scoped>\n",
       "    .dataframe tbody tr th:only-of-type {\n",
       "        vertical-align: middle;\n",
       "    }\n",
       "\n",
       "    .dataframe tbody tr th {\n",
       "        vertical-align: top;\n",
       "    }\n",
       "\n",
       "    .dataframe thead th {\n",
       "        text-align: right;\n",
       "    }\n",
       "</style>\n",
       "<table border=\"1\" class=\"dataframe\">\n",
       "  <thead>\n",
       "    <tr style=\"text-align: right;\">\n",
       "      <th></th>\n",
       "      <th>Apple</th>\n",
       "      <th>Orange</th>\n",
       "      <th>Banana</th>\n",
       "      <th>Pear</th>\n",
       "    </tr>\n",
       "  </thead>\n",
       "  <tbody>\n",
       "    <tr>\n",
       "      <th>bag1</th>\n",
       "      <td>10</td>\n",
       "      <td>20</td>\n",
       "      <td>30</td>\n",
       "      <td>40</td>\n",
       "    </tr>\n",
       "    <tr>\n",
       "      <th>bag2</th>\n",
       "      <td>7</td>\n",
       "      <td>14</td>\n",
       "      <td>21</td>\n",
       "      <td>28</td>\n",
       "    </tr>\n",
       "    <tr>\n",
       "      <th>bag3</th>\n",
       "      <td>55</td>\n",
       "      <td>15</td>\n",
       "      <td>8</td>\n",
       "      <td>12</td>\n",
       "    </tr>\n",
       "    <tr>\n",
       "      <th>bag4</th>\n",
       "      <td>15</td>\n",
       "      <td>14</td>\n",
       "      <td>1</td>\n",
       "      <td>8</td>\n",
       "    </tr>\n",
       "    <tr>\n",
       "      <th>bag5</th>\n",
       "      <td>7</td>\n",
       "      <td>1</td>\n",
       "      <td>1</td>\n",
       "      <td>8</td>\n",
       "    </tr>\n",
       "    <tr>\n",
       "      <th>bag6</th>\n",
       "      <td>5</td>\n",
       "      <td>4</td>\n",
       "      <td>9</td>\n",
       "      <td>2</td>\n",
       "    </tr>\n",
       "  </tbody>\n",
       "</table>\n",
       "</div>"
      ],
      "text/plain": [
       "      Apple  Orange  Banana  Pear\n",
       "bag1     10      20      30    40\n",
       "bag2      7      14      21    28\n",
       "bag3     55      15       8    12\n",
       "bag4     15      14       1     8\n",
       "bag5      7       1       1     8\n",
       "bag6      5       4       9     2"
      ]
     },
     "execution_count": 20,
     "metadata": {},
     "output_type": "execute_result"
    }
   ],
   "source": [
    "#getting the data to be used in this analysis\n",
    "data1 = {\n",
    "    'Apple':[10, 7, 55, 15, 7, 5],\n",
    "    'Orange':[20, 14, 15, 14, 1, 4],\n",
    "    'Banana':[30, 21, 8, 1, 1, 9],\n",
    "    'Pear':[40, 28, 12, 8, 8, 2]\n",
    "}\n",
    "index_labels = ['bag1', 'bag2', 'bag3', 'bag4', 'bag5', 'bag6']\n",
    "df1 = pd.DataFrame(data1)\n",
    "\n",
    "df1.index = index_labels\n",
    "df1"
   ]
  },
  {
   "cell_type": "code",
   "execution_count": 28,
   "id": "72bed5b0-5619-46bc-a507-192558488163",
   "metadata": {},
   "outputs": [
    {
     "name": "stdout",
     "output_type": "stream",
     "text": [
      "Calculating the Mean\n",
      "Apple 16.5\n",
      "Orange 11.333333333333334\n",
      "Banana 11.666666666666666\n",
      "Pear 16.333333333333332\n"
     ]
    },
    {
     "ename": "AttributeError",
     "evalue": "'Index' object has no attribute 'mean'",
     "output_type": "error",
     "traceback": [
      "\u001b[1;31m---------------------------------------------------------------------------\u001b[0m",
      "\u001b[1;31mAttributeError\u001b[0m                            Traceback (most recent call last)",
      "Cell \u001b[1;32mIn[28], line 7\u001b[0m\n\u001b[0;32m      5\u001b[0m \u001b[38;5;28mprint\u001b[39m(\u001b[38;5;124m'\u001b[39m\u001b[38;5;124mBanana\u001b[39m\u001b[38;5;124m'\u001b[39m,df1\u001b[38;5;241m.\u001b[39mBanana\u001b[38;5;241m.\u001b[39mmean())\n\u001b[0;32m      6\u001b[0m \u001b[38;5;28mprint\u001b[39m(\u001b[38;5;124m'\u001b[39m\u001b[38;5;124mPear\u001b[39m\u001b[38;5;124m'\u001b[39m,df1\u001b[38;5;241m.\u001b[39mPear\u001b[38;5;241m.\u001b[39mmean())\n\u001b[1;32m----> 7\u001b[0m \u001b[38;5;28mprint\u001b[39m(df1\u001b[38;5;241m.\u001b[39mcolumns\u001b[38;5;241m.\u001b[39mmean())\n",
      "\u001b[1;31mAttributeError\u001b[0m: 'Index' object has no attribute 'mean'"
     ]
    }
   ],
   "source": [
    "#Calculating the mean\n",
    "print('Calculating the Mean')\n",
    "print('Apple',df1.Apple.mean())\n",
    "print('Orange',df1.Orange.mean())\n",
    "print('Banana',df1.Banana.mean())\n",
    "print('Pear',df1.Pear.mean())\n",
    "print(df1.columns.mean())"
   ]
  },
  {
   "cell_type": "code",
   "execution_count": 26,
   "id": "c7c35300-29e0-49e3-ae3e-74366cf36e8f",
   "metadata": {},
   "outputs": [
    {
     "name": "stdout",
     "output_type": "stream",
     "text": [
      "Calculating the Median\n",
      "Apple 8.5\n",
      "Orange 14.0\n",
      "Banana 8.5\n",
      "Pear 10.0\n"
     ]
    }
   ],
   "source": [
    "#Calculating the median\n",
    "print('Calculating the Median')\n",
    "print('Apple',df1.Apple.median())\n",
    "print('Orange',df1.Orange.median())\n",
    "print('Banana',df1.Banana.median())\n",
    "print('Pear',df1.Pear.median())"
   ]
  },
  {
   "cell_type": "code",
   "execution_count": 27,
   "id": "899e69b0-90b1-4af4-8a81-e72f2e1bba24",
   "metadata": {},
   "outputs": [
    {
     "name": "stdout",
     "output_type": "stream",
     "text": [
      "Calculating the Mode\n",
      "Apple 0    7\n",
      "Name: Apple, dtype: int64\n",
      "Orange 0    14\n",
      "Name: Orange, dtype: int64\n",
      "Banana 0    1\n",
      "Name: Banana, dtype: int64\n",
      "Pear 0    8\n",
      "Name: Pear, dtype: int64\n"
     ]
    }
   ],
   "source": [
    "#Calculating the median\n",
    "print('Calculating the Mode')\n",
    "print('Apple',df1.Apple.mode())\n",
    "print('Orange',df1.Orange.mode())\n",
    "print('Banana',df1.Banana.mode())\n",
    "print('Pear',df1.Pear.mode())"
   ]
  },
  {
   "cell_type": "code",
   "execution_count": null,
   "id": "ef6ce408-e980-4c63-b209-c200cccda3f7",
   "metadata": {},
   "outputs": [],
   "source": []
  }
 ],
 "metadata": {
  "kernelspec": {
   "display_name": "Python 3 (ipykernel)",
   "language": "python",
   "name": "python3"
  },
  "language_info": {
   "codemirror_mode": {
    "name": "ipython",
    "version": 3
   },
   "file_extension": ".py",
   "mimetype": "text/x-python",
   "name": "python",
   "nbconvert_exporter": "python",
   "pygments_lexer": "ipython3",
   "version": "3.11.7"
  }
 },
 "nbformat": 4,
 "nbformat_minor": 5
}
