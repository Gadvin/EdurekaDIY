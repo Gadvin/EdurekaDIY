{
 "cells": [
  {
   "cell_type": "markdown",
   "id": "3dd02321-8fbe-44ee-8c8c-c4fee661051a",
   "metadata": {},
   "source": [
    "# Question\n",
    "Write a program that takes a value between 1-7 and print the weekday name accordingly with 1 being Sunday to 7 being Saturday"
   ]
  },
  {
   "cell_type": "code",
   "execution_count": 4,
   "id": "92d85568-682b-4f91-bce6-b3925ca9eb93",
   "metadata": {},
   "outputs": [
    {
     "name": "stdin",
     "output_type": "stream",
     "text": [
      "Enter number: 6\n"
     ]
    },
    {
     "name": "stdout",
     "output_type": "stream",
     "text": [
      "Friday\n"
     ]
    }
   ],
   "source": [
    "weekday = int(input(\"Enter number:\")) \n",
    "\n",
    "if weekday == 1:\n",
    "    print(\"Sunday\")\n",
    "elif weekday == 2:\n",
    "    print(\"Monday\")\n",
    "elif weekday == 3:\n",
    "    print(\"Tuesday\")\n",
    "elif weekday == 4:\n",
    "    print(\"Wednesday\")\n",
    "elif weekday == 5:\n",
    "    print(\"Thursday\")\n",
    "elif weekday == 6:\n",
    "    print(\"Friday\")\n",
    "elif weekday == 7:\n",
    "    print(\"Saturday\")\n",
    "else:\n",
    "    print(\"Enter a number between 1 and 7\")\n",
    "\n"
   ]
  },
  {
   "cell_type": "code",
   "execution_count": 9,
   "id": "59d784f2-ec0b-4846-af32-c265156387fe",
   "metadata": {},
   "outputs": [
    {
     "data": {
      "text/plain": [
       "complex"
      ]
     },
     "execution_count": 9,
     "metadata": {},
     "output_type": "execute_result"
    }
   ],
   "source": [
    "type(4+5j)"
   ]
  },
  {
   "cell_type": "code",
   "execution_count": null,
   "id": "d6d7e880-a9c0-4abf-ae00-c24002ee8a39",
   "metadata": {},
   "outputs": [],
   "source": []
  }
 ],
 "metadata": {
  "kernelspec": {
   "display_name": "Python 3 (ipykernel)",
   "language": "python",
   "name": "python3"
  },
  "language_info": {
   "codemirror_mode": {
    "name": "ipython",
    "version": 3
   },
   "file_extension": ".py",
   "mimetype": "text/x-python",
   "name": "python",
   "nbconvert_exporter": "python",
   "pygments_lexer": "ipython3",
   "version": "3.11.7"
  }
 },
 "nbformat": 4,
 "nbformat_minor": 5
}
