{
 "cells": [
  {
   "cell_type": "markdown",
   "id": "8501e57e-f825-4cb5-ad49-014e3fcd758f",
   "metadata": {},
   "source": [
    "# Q1. Problem Statement: Understanding NumPy Arrays\n",
    "\n",
    "Write a Python program that prints odd numbers from 1 to 30 using the \r\n",
    "NumPy array. Also, print the data type of output."
   ]
  },
  {
   "cell_type": "code",
   "execution_count": 10,
   "id": "7c1c2720-136f-46c4-95cd-85baca55eb99",
   "metadata": {},
   "outputs": [
    {
     "name": "stdout",
     "output_type": "stream",
     "text": [
      "[ 1  3  5  7  9 11 13 15 17 19 21 23 25 27 29]\n"
     ]
    }
   ],
   "source": [
    "import numpy as np\n",
    "\n",
    "x = np.arange(1,30,2)\n",
    "print(x)"
   ]
  },
  {
   "cell_type": "markdown",
   "id": "973c4b94-fcea-490e-b172-698729001220",
   "metadata": {},
   "source": [
    "# Q2. Problem Statement: Size Comparison\n",
    "\n",
    "Write a Python program to declare a list and NumPy arrays(1-D, 2-D, and \r\n",
    "3-D) and compare the size of the list and the arrays. Also, compare the \r\n",
    "size of each element in the list and the arrays (in terms of memory \r\n",
    "occupancy)."
   ]
  },
  {
   "cell_type": "code",
   "execution_count": 44,
   "id": "6ea9d696-8fe4-4575-a872-1511b4d51efa",
   "metadata": {},
   "outputs": [
    {
     "name": "stdout",
     "output_type": "stream",
     "text": [
      "Size of each element of a list in bytes: 28\n",
      "Size of the whole list in bytes: 136\n",
      "Size of each element of an array in bytes:  4\n",
      "Size of the whole array in bytes:  40\n"
     ]
    }
   ],
   "source": [
    "import numpy as np\n",
    "import sys\n",
    "\n",
    "x = [1, 2, 3, 4, 5, 6, 7, 8, 9, 10]\n",
    "print (\"Size of each element of a list in bytes:\",sys.getsizeof(x[0]))\n",
    "print (\"Size of the whole list in bytes:\",sys.getsizeof(x))\n",
    "\n",
    "y = np.array([1, 2, 3, 4, 5, 6, 7, 8, 9, 10])\n",
    "\n",
    "print(\"Size of each element of an array in bytes: \", y.itemsize)\n",
    "print(\"Size of the whole array in bytes: \" , y.size*y.itemsize)"
   ]
  },
  {
   "cell_type": "code",
   "execution_count": null,
   "id": "e1697d39-0d3f-4e13-b8d9-0a1f881b8227",
   "metadata": {},
   "outputs": [],
   "source": []
  }
 ],
 "metadata": {
  "kernelspec": {
   "display_name": "Python 3 (ipykernel)",
   "language": "python",
   "name": "python3"
  },
  "language_info": {
   "codemirror_mode": {
    "name": "ipython",
    "version": 3
   },
   "file_extension": ".py",
   "mimetype": "text/x-python",
   "name": "python",
   "nbconvert_exporter": "python",
   "pygments_lexer": "ipython3",
   "version": "3.11.7"
  }
 },
 "nbformat": 4,
 "nbformat_minor": 5
}
